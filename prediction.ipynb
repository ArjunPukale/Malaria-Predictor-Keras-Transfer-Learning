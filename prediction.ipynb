{
 "cells": [
  {
   "cell_type": "code",
   "execution_count": 1,
   "metadata": {},
   "outputs": [
    {
     "name": "stdout",
     "output_type": "stream",
     "text": [
      "Model Loaded!!!\n"
     ]
    }
   ],
   "source": [
    "from tensorflow.keras.models import load_model\n",
    "loaded_model = load_model(\"model1.h5\")\n",
    "print(\"Model Loaded!!!\")"
   ]
  },
  {
   "cell_type": "code",
   "execution_count": 7,
   "metadata": {},
   "outputs": [
    {
     "name": "stdout",
     "output_type": "stream",
     "text": [
      "0.9997125416994095\n",
      "0.12786853313446045\n",
      "0.9991724627907388\n"
     ]
    },
    {
     "name": "stderr",
     "output_type": "stream",
     "text": [
      "Exception in Tkinter callback\n",
      "Traceback (most recent call last):\n",
      "  File \"C:\\Users\\arjun\\Anaconda3\\envs\\tfgpu\\lib\\tkinter\\__init__.py\", line 1705, in __call__\n",
      "    return self.func(*args)\n",
      "  File \"<ipython-input-7-87c4167ed5eb>\", line 34, in predict2\n",
      "    result=np.ravel(loaded_model.predict(np.expand_dims(img_array,axis=0)))\n",
      "  File \"C:\\Users\\arjun\\Anaconda3\\envs\\tfgpu\\lib\\site-packages\\tensorflow_core\\python\\keras\\engine\\training.py\", line 909, in predict\n",
      "    use_multiprocessing=use_multiprocessing)\n",
      "  File \"C:\\Users\\arjun\\Anaconda3\\envs\\tfgpu\\lib\\site-packages\\tensorflow_core\\python\\keras\\engine\\training_v2.py\", line 462, in predict\n",
      "    steps=steps, callbacks=callbacks, **kwargs)\n",
      "  File \"C:\\Users\\arjun\\Anaconda3\\envs\\tfgpu\\lib\\site-packages\\tensorflow_core\\python\\keras\\engine\\training_v2.py\", line 396, in _model_iteration\n",
      "    distribution_strategy=strategy)\n",
      "  File \"C:\\Users\\arjun\\Anaconda3\\envs\\tfgpu\\lib\\site-packages\\tensorflow_core\\python\\keras\\engine\\training_v2.py\", line 594, in _process_inputs\n",
      "    steps=steps)\n",
      "  File \"C:\\Users\\arjun\\Anaconda3\\envs\\tfgpu\\lib\\site-packages\\tensorflow_core\\python\\keras\\engine\\training.py\", line 2472, in _standardize_user_data\n",
      "    exception_prefix='input')\n",
      "  File \"C:\\Users\\arjun\\Anaconda3\\envs\\tfgpu\\lib\\site-packages\\tensorflow_core\\python\\keras\\engine\\training_utils.py\", line 574, in standardize_input_data\n",
      "    str(data_shape))\n",
      "ValueError: Error when checking input: expected input_1 to have shape (100, 100, 3) but got array with shape (100, 100, 4)\n"
     ]
    },
    {
     "name": "stdout",
     "output_type": "stream",
     "text": [
      "0.9991724627907388\n",
      "0.9991724627907388\n",
      "0.06616449356079102\n",
      "0.15442568063735962\n",
      "0.9998784308845643\n"
     ]
    }
   ],
   "source": [
    "from tkinter import *\n",
    "from tkinter import filedialog\n",
    "from tkinter import messagebox\n",
    "from PIL import ImageTk, Image\n",
    "filename=None\n",
    "img=None\n",
    "\n",
    "def upload():\n",
    "    global filename,img,root,img2,uploaded\n",
    "    filename =  filedialog.askopenfilename(initialdir = \"/\",title = \"Select file\",filetypes = ((\"png files\",\"*.png\"),(\"all files\",\"*.*\")))#filetypes = ((\"jpeg files\",\"*.jpg\"),(\"all files\",\"*.*\"))\n",
    "    #print (filename)\n",
    "    img=Image.open(filename)\n",
    "    img=img.resize((250,250))\n",
    "    img = ImageTk.PhotoImage(img)\n",
    "    label_1=Label(root,image=img)\n",
    "    label_1.place(x=24,y=14,width=\"250\",height=\"250\")\n",
    "\n",
    "   \n",
    "fnt=('Arial',15,'bold')\n",
    "\n",
    "    \n",
    "def predict2():\n",
    "  global filename\n",
    "  import numpy as np\n",
    "  from PIL import Image\n",
    "  \n",
    "  img2=Image.open(filename)\n",
    " # print('1')\n",
    "  img2=img2.resize((100,100))\n",
    "  img_array=np.array(img2).astype('float32')/255\n",
    "  result=np.ravel(loaded_model.predict(np.expand_dims(img_array,axis=0)))\n",
    "  txt='probablity: '+str(round((1-result[0])*100,2))+'%'\n",
    "  p=1-result[0]\n",
    "  \n",
    "  if p>=0.5:\n",
    "        f['bg']='red'\n",
    "  else:\n",
    "    f['bg']='green'\n",
    "  #l=Label(font=fnt)\n",
    "  #l.place(x=50,y=450)\n",
    "  #l['text']=txt\n",
    "  l=Label(root,font=fnt,text=txt,fg='Gray24',bg='turquoise1',relief=SUNKEN)\n",
    "  l.place(x=50,y=425,width=188,height=45)\n",
    " \n",
    "\n",
    "root = Tk()\n",
    "root.configure(background='white')\n",
    "root.title(\"Malaria Predictor\")\n",
    "root.iconbitmap(\"webp_net_resizeimage_wjy_icon.ico\")\n",
    "root.geometry(\"300x500\")\n",
    "f=Frame(root,width=300,height=500,bg='light steel blue')    \n",
    "f.pack()\n",
    "x=Button(root,cursor='hand2',text=\"Upload Image\",bg=\"aquamarine\",fg=\"Gray24\",width=15,height=1,font=(\"open sans\",14,'bold'),relief=RAISED,command=upload)\n",
    "x.place(x=50,y=300)\n",
    "y=Button(root,cursor='hand2',text=\"Predict\",bg=\"aquamarine\",fg=\"Gray24\",width=15,height=1,font=(\"open sans\",14,'bold'),relief=RAISED,command=predict2)\n",
    "y.place(x=50,y=350)\n",
    "label1=Label(root,cursor='xterm',bg='turquoise1',relief=SUNKEN,text='Input Image')\n",
    "label1.place(x=25,y=15,width=\"250\",height=\"250\")\n",
    "root.mainloop()"
   ]
  }
 ],
 "metadata": {
  "kernelspec": {
   "display_name": "tfgpu",
   "language": "python",
   "name": "tfgpu"
  },
  "language_info": {
   "codemirror_mode": {
    "name": "ipython",
    "version": 3
   },
   "file_extension": ".py",
   "mimetype": "text/x-python",
   "name": "python",
   "nbconvert_exporter": "python",
   "pygments_lexer": "ipython3",
   "version": "3.7.5"
  }
 },
 "nbformat": 4,
 "nbformat_minor": 2
}
