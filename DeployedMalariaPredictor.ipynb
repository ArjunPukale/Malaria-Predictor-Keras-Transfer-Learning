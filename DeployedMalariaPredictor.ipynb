{
 "cells": [
  {
   "cell_type": "markdown",
   "metadata": {
    "colab_type": "text",
    "id": "KRnZSFoRM9Bo"
   },
   "source": [
    "Created by: Arjun Pukale<br>\n",
    "contact: arjunpukale@gmal.com<br>\n",
    "date of creation: 08-03-2020"
   ]
  },
  {
   "cell_type": "markdown",
   "metadata": {
    "colab_type": "text",
    "id": "0LYctvSpj8XK"
   },
   "source": [
    "# Permission to save model to your google drive"
   ]
  },
  {
   "cell_type": "code",
   "execution_count": 0,
   "metadata": {
    "colab": {
     "base_uri": "https://localhost:8080/",
     "height": 55
    },
    "colab_type": "code",
    "executionInfo": {
     "elapsed": 1277,
     "status": "ok",
     "timestamp": 1583678082760,
     "user": {
      "displayName": "arjun pukale",
      "photoUrl": "https://lh3.googleusercontent.com/a-/AOh14GjeJlkpA0by1QkCrP4OlWdeIqDIMrNUilBpmTy7uA=s64",
      "userId": "13450506292296154027"
     },
     "user_tz": -330
    },
    "id": "mXavfnbbkEvc",
    "outputId": "6f5e0d1c-b643-4601-a73d-2ea7231dc358"
   },
   "outputs": [
    {
     "name": "stdout",
     "output_type": "stream",
     "text": [
      "Drive already mounted at /content/drive; to attempt to forcibly remount, call drive.mount(\"/content/drive\", force_remount=True).\n"
     ]
    }
   ],
   "source": [
    "from google.colab import drive\n",
    "drive.mount('/content/drive')"
   ]
  },
  {
   "cell_type": "markdown",
   "metadata": {
    "colab_type": "text",
    "id": "M75ZjZQZleIh"
   },
   "source": [
    "Creating a folder in your drive to save Trained Model <br>\n",
    "(**Skip if you have already done previously**)"
   ]
  },
  {
   "cell_type": "code",
   "execution_count": 0,
   "metadata": {
    "colab": {},
    "colab_type": "code",
    "id": "siH9Bjdbk34_"
   },
   "outputs": [],
   "source": [
    "!mkdir '/content/drive/My Drive/MalariaPredictor'"
   ]
  },
  {
   "cell_type": "code",
   "execution_count": 0,
   "metadata": {
    "colab": {
     "base_uri": "https://localhost:8080/",
     "height": 92
    },
    "colab_type": "code",
    "executionInfo": {
     "elapsed": 6989,
     "status": "ok",
     "timestamp": 1583678437290,
     "user": {
      "displayName": "arjun pukale",
      "photoUrl": "https://lh3.googleusercontent.com/a-/AOh14GjeJlkpA0by1QkCrP4OlWdeIqDIMrNUilBpmTy7uA=s64",
      "userId": "13450506292296154027"
     },
     "user_tz": -330
    },
    "id": "xt__c9eIkcjc",
    "outputId": "b141ace7-0a24-4e45-f37f-d64ea87507fc"
   },
   "outputs": [
    {
     "name": "stdout",
     "output_type": "stream",
     "text": [
      "Downloading 1Stgb28a2CUiq6n4ukN9thrbaUI2MqRob into /content/drive/My Drive/MalariaPredictor/model.h5... Done.\n",
      "Unzipping..."
     ]
    },
    {
     "name": "stderr",
     "output_type": "stream",
     "text": [
      "/usr/local/lib/python3.6/dist-packages/google_drive_downloader/google_drive_downloader.py:78: UserWarning: Ignoring `unzip` since \"1Stgb28a2CUiq6n4ukN9thrbaUI2MqRob\" does not look like a valid zip file\n",
      "  warnings.warn('Ignoring `unzip` since \"{}\" does not look like a valid zip file'.format(file_id))\n"
     ]
    }
   ],
   "source": [
    "from google_drive_downloader import GoogleDriveDownloader as gdd\n",
    "\n",
    "gdd.download_file_from_google_drive(file_id='1Stgb28a2CUiq6n4ukN9thrbaUI2MqRob',\n",
    "                                    dest_path='/content/drive/My Drive/MalariaPredictor/model.h5',\n",
    "                                    unzip=True)"
   ]
  },
  {
   "cell_type": "markdown",
   "metadata": {
    "colab_type": "text",
    "id": "4OHtl-FHl3_D"
   },
   "source": [
    "# Loading the Trained Model"
   ]
  },
  {
   "cell_type": "code",
   "execution_count": 0,
   "metadata": {
    "colab": {
     "base_uri": "https://localhost:8080/",
     "height": 214
    },
    "colab_type": "code",
    "executionInfo": {
     "elapsed": 12620,
     "status": "ok",
     "timestamp": 1583678659988,
     "user": {
      "displayName": "arjun pukale",
      "photoUrl": "https://lh3.googleusercontent.com/a-/AOh14GjeJlkpA0by1QkCrP4OlWdeIqDIMrNUilBpmTy7uA=s64",
      "userId": "13450506292296154027"
     },
     "user_tz": -330
    },
    "id": "KYYlCGT9l8Gf",
    "outputId": "56997a36-5ebf-4b91-cf86-fa19b55719f4"
   },
   "outputs": [
    {
     "data": {
      "text/html": [
       "<p style=\"color: red;\">\n",
       "The default version of TensorFlow in Colab will soon switch to TensorFlow 2.x.<br>\n",
       "We recommend you <a href=\"https://www.tensorflow.org/guide/migrate\" target=\"_blank\">upgrade</a> now \n",
       "or ensure your notebook will continue to use TensorFlow 1.x via the <code>%tensorflow_version 1.x</code> magic:\n",
       "<a href=\"https://colab.research.google.com/notebooks/tensorflow_version.ipynb\" target=\"_blank\">more info</a>.</p>\n"
      ],
      "text/plain": [
       "<IPython.core.display.HTML object>"
      ]
     },
     "metadata": {
      "tags": []
     },
     "output_type": "display_data"
    },
    {
     "name": "stdout",
     "output_type": "stream",
     "text": [
      "WARNING:tensorflow:From /usr/local/lib/python3.6/dist-packages/tensorflow_core/python/ops/resource_variable_ops.py:1630: calling BaseResourceVariable.__init__ (from tensorflow.python.ops.resource_variable_ops) with constraint is deprecated and will be removed in a future version.\n",
      "Instructions for updating:\n",
      "If using Keras pass *_constraint arguments to layers.\n",
      "WARNING:tensorflow:From /usr/local/lib/python3.6/dist-packages/tensorflow_core/python/ops/nn_impl.py:183: where (from tensorflow.python.ops.array_ops) is deprecated and will be removed in a future version.\n",
      "Instructions for updating:\n",
      "Use tf.where in 2.0, which has the same broadcast rule as np.where\n",
      "Model Loaded!!!\n"
     ]
    }
   ],
   "source": [
    "from tensorflow.keras.models import load_model\n",
    "loaded_model2 = load_model(\"/content/drive/My Drive/MalariaPredictor/model.h5\")\n",
    "print(\"Model Loaded!!!\")"
   ]
  },
  {
   "cell_type": "markdown",
   "metadata": {
    "colab_type": "text",
    "id": "8IlmLMS-mtDy"
   },
   "source": [
    "# Using Model for Making Prediction"
   ]
  },
  {
   "cell_type": "code",
   "execution_count": 0,
   "metadata": {
    "colab": {},
    "colab_type": "code",
    "id": "yP233bcFmmPu"
   },
   "outputs": [],
   "source": [
    "def predict(img_path):\n",
    "  import numpy as np\n",
    "  from PIL import Image\n",
    "  import matplotlib.pyplot as plt\n",
    "  %matplotlib inline\n",
    "  img=Image.open(img_path)\n",
    "  img=img.resize((100,100))\n",
    "  img_array=np.array(img).astype('float32')/255\n",
    "  result=np.ravel(loaded_model2.predict(np.expand_dims(img_array,axis=0)))\n",
    "  p=1-result[0]\n",
    "  txt='Probablity: '+str(round((1-result[0])*100,2))+'%'\n",
    "  if p>=0.5:\n",
    "    color='red'\n",
    "  else:\n",
    "    color='green'\n",
    "  plt.figure(facecolor=color)\n",
    "  plt.title(txt,color='white',fontsize=18)\n",
    "  fig=plt.imshow(img)\n",
    "  fig.axes.get_xaxis().set_visible(False)\n",
    "  fig.axes.get_yaxis().set_visible(False)"
   ]
  },
  {
   "cell_type": "markdown",
   "metadata": {
    "colab_type": "text",
    "id": "Q6AejBEznGTw"
   },
   "source": [
    "Sample"
   ]
  },
  {
   "cell_type": "code",
   "execution_count": 0,
   "metadata": {
    "colab": {
     "base_uri": "https://localhost:8080/",
     "height": 92
    },
    "colab_type": "code",
    "executionInfo": {
     "elapsed": 1644,
     "status": "ok",
     "timestamp": 1583678891433,
     "user": {
      "displayName": "arjun pukale",
      "photoUrl": "https://lh3.googleusercontent.com/a-/AOh14GjeJlkpA0by1QkCrP4OlWdeIqDIMrNUilBpmTy7uA=s64",
      "userId": "13450506292296154027"
     },
     "user_tz": -330
    },
    "id": "_TlvqBD1lxud",
    "outputId": "73f0141f-5041-469c-e408-40ef74c9a971"
   },
   "outputs": [
    {
     "name": "stdout",
     "output_type": "stream",
     "text": [
      "Downloading 1UQIQdtPoZEYpBcWo44eN4JJTcgzSHcaR into /content/sample_img.png... Done.\n",
      "Unzipping..."
     ]
    },
    {
     "name": "stderr",
     "output_type": "stream",
     "text": [
      "/usr/local/lib/python3.6/dist-packages/google_drive_downloader/google_drive_downloader.py:78: UserWarning: Ignoring `unzip` since \"1UQIQdtPoZEYpBcWo44eN4JJTcgzSHcaR\" does not look like a valid zip file\n",
      "  warnings.warn('Ignoring `unzip` since \"{}\" does not look like a valid zip file'.format(file_id))\n"
     ]
    }
   ],
   "source": [
    "from google_drive_downloader import GoogleDriveDownloader as gdd\n",
    "\n",
    "gdd.download_file_from_google_drive(file_id='1UQIQdtPoZEYpBcWo44eN4JJTcgzSHcaR',\n",
    "                                    dest_path='/content/sample_img.png',\n",
    "                                    unzip=True)"
   ]
  },
  {
   "cell_type": "code",
   "execution_count": 0,
   "metadata": {
    "colab": {
     "base_uri": "https://localhost:8080/",
     "height": 272
    },
    "colab_type": "code",
    "executionInfo": {
     "elapsed": 8517,
     "status": "ok",
     "timestamp": 1583678936573,
     "user": {
      "displayName": "arjun pukale",
      "photoUrl": "https://lh3.googleusercontent.com/a-/AOh14GjeJlkpA0by1QkCrP4OlWdeIqDIMrNUilBpmTy7uA=s64",
      "userId": "13450506292296154027"
     },
     "user_tz": -330
    },
    "id": "jHtdQvbgnh6p",
    "outputId": "c3999275-d0bb-4fc8-bbf4-c328e7ec454c"
   },
   "outputs": [
    {
     "data": {
      "image/png": "[encoded data removed]",
      "text/plain": [
       "<Figure size 432x288 with 1 Axes>"
      ]
     },
     "metadata": {
      "tags": []
     },
     "output_type": "display_data"
    }
   ],
   "source": [
    "img_path='/content/sample_img.png'\n",
    "predict(img_path)"
   ]
  }
 ],
 "metadata": {
  "accelerator": "GPU",
  "colab": {
   "authorship_tag": "ABX9TyO+5Bz+aCkeuW1NH4hSG3Md",
   "collapsed_sections": [],
   "mount_file_id": "1BReVdKugLsCYFtdfG2UmgmDJZDWR_7be",
   "name": "DeployedMalariaPredictor.ipynb",
   "provenance": []
  },
  "kernelspec": {
   "display_name": "Python 3",
   "language": "python",
   "name": "python3"
  },
  "language_info": {
   "codemirror_mode": {
    "name": "ipython",
    "version": 3
   },
   "file_extension": ".py",
   "mimetype": "text/x-python",
   "name": "python",
   "nbconvert_exporter": "python",
   "pygments_lexer": "ipython3",
   "version": "3.7.4"
  }
 },
 "nbformat": 4,
 "nbformat_minor": 1
}
